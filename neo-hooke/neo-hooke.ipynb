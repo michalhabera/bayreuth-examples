{
 "cells": [
  {
   "cell_type": "markdown",
   "metadata": {},
   "source": [
    "# Neo-Hookean compressible solid material\n",
    "\n",
    "Neo-Hooke compressible material is a hyperelastic material with strain energy density (for $d=3$) given as\n",
    "$$\n",
    "W(I_1, I_3) = C_1 (I_1 - 3 - 2 \\log I_3) + D_1 (I_3 - 1)^2\n",
    "$$\n",
    "where\n",
    "$$\n",
    "\\begin{aligned}\n",
    "I_3 &= \\det \\bm{F},\\\\\n",
    "I_1 &= \\text{Tr} (\\bm F^T \\bm F),\\\\\n",
    "\\bm F &= \\bm I + \\nabla \\bm u.\n",
    "\\end{aligned}\n",
    "$$\n",
    "\n",
    "Material parameters are chosen as $C_1 = \\mu / 2, \\, D_1 = \\lambda / 2$ for consistency with linear Hooke elasticity, $\\mu$ is the second Lamé parameter (shear modulus) and $\\lambda$ is first Lamé parameter.\n",
    "\n",
    "We can formulate the following (unconstrained) optimization problem: find $\\bm u \\in [H^1_0(\\Omega)]^3$ that solves\n",
    "$$\n",
    "\\min\\limits_{\\bm u \\in [H^1_0(\\Omega)]^3} \\left\\{ \\int_\\Omega W(I_1, I_3) \\, \\mathrm dx - \\int_{\\Gamma_N} \\bm t \\cdot \\bm u \\, \\mathrm ds \\right\\}.\n",
    "$$\n",
    "\n",
    "This functional is not convex in $\\bm F$ (since $\\det \\bm F$ is not)."
   ]
  },
  {
   "cell_type": "code",
   "execution_count": 40,
   "metadata": {},
   "outputs": [
    {
     "name": "stdout",
     "output_type": "stream",
     "text": [
      "Info    : Clearing all models and views...\n",
      "Info    : Done clearing all models and views\n",
      "Info    : Reading 'model.step'...\n",
      "Info    :  - Label 'Shapes/Body' (3D)\n",
      "Info    :  - Color (0.447059, 0.47451, 0.501961) (3D & Surfaces)\n",
      "Info    : Done reading 'model.step'\n",
      "Info    : Meshing 1D...\n",
      "Info    : [  0%] Meshing curve 1 (Line)\n",
      "Info    : [ 10%] Meshing curve 2 (Line)\n",
      "Info    : [ 10%] Meshing curve 3 (Line)\n",
      "Info    : [ 20%] Meshing curve 4 (Line)\n",
      "Info    : [ 20%] Meshing curve 5 (Line)\n",
      "Info    : [ 30%] Meshing curve 6 (Line)\n",
      "Info    : [ 30%] Meshing curve 7 (Line)\n",
      "Info    : [ 30%] Meshing curve 8 (Line)\n",
      "Info    : [ 40%] Meshing curve 9 (Line)\n",
      "Info    : [ 40%] Meshing curve 10 (Line)\n",
      "Info    : [ 50%] Meshing curve 11 (Line)\n",
      "Info    : [ 50%] Meshing curve 12 (Line)\n",
      "Info    : [ 60%] Meshing curve 13 (Line)\n",
      "Info    : [ 60%] Meshing curve 14 (Line)\n",
      "Info    : [ 60%] Meshing curve 15 (Line)\n",
      "Info    : [ 70%] Meshing curve 16 (Line)\n",
      "Info    : [ 70%] Meshing curve 17 (Line)\n",
      "Info    : [ 80%] Meshing curve 18 (Line)\n",
      "Info    : [ 80%] Meshing curve 19 (Line)\n",
      "Info    : [ 80%] Meshing curve 20 (Line)\n",
      "Info    : [ 90%] Meshing curve 21 (Line)\n",
      "Info    : [ 90%] Meshing curve 22 (Line)\n",
      "Info    : [100%] Meshing curve 23 (Line)\n",
      "Info    : [100%] Meshing curve 24 (Line)\n",
      "Info    : Done meshing 1D (Wall 0.00932225s, CPU 0.005496s)\n",
      "Info    : Meshing 2D...\n",
      "Info    : [  0%] Meshing surface 1 (Plane, Frontal-Delaunay)\n",
      "Info    : [ 20%] Meshing surface 2 (Plane, Frontal-Delaunay)\n",
      "Info    : [ 30%] Meshing surface 3 (Plane, Frontal-Delaunay)\n",
      "Info    : [ 40%] Meshing surface 4 (Plane, Frontal-Delaunay)\n",
      "Info    : [ 50%] Meshing surface 5 (Plane, Frontal-Delaunay)\n",
      "Info    : [ 60%] Meshing surface 6 (Plane, Frontal-Delaunay)\n",
      "Info    : [ 70%] Meshing surface 7 (Plane, Frontal-Delaunay)\n",
      "Info    : [ 80%] Meshing surface 8 (Plane, Frontal-Delaunay)\n",
      "Info    : [ 90%] Meshing surface 9 (Plane, Frontal-Delaunay)\n",
      "Info    : [100%] Meshing surface 10 (Plane, Frontal-Delaunay)\n",
      "Info    : Done meshing 2D (Wall 0.0426819s, CPU 0.042239s)\n",
      "Info    : Meshing 3D...\n",
      "Info    : 3D Meshing 1 volume with 1 connected component\n",
      "Info    : Tetrahedrizing 282 nodes...\n",
      "Info    : Done tetrahedrizing 290 nodes (Wall 0.00389267s, CPU 0.003896s)\n",
      "Info    : Reconstructing mesh...\n",
      "Info    :  - Creating surface mesh\n",
      "Info    :  - Identifying boundary edges\n",
      "Info    :  - Recovering boundary\n",
      "Info    : Done reconstructing mesh (Wall 0.0124794s, CPU 0.012557s)\n",
      "Info    : Found volume 1\n",
      "Info    : It. 0 - 0 nodes created - worst tet radius 0.903256 (nodes removed 0 0)\n",
      "Info    : 3D refinement terminated (282 nodes total):\n",
      "Info    :  - 0 Delaunay cavities modified for star shapeness\n",
      "Info    :  - 0 nodes could not be inserted\n",
      "Info    :  - 718 tetrahedra created in 0.000118625 sec. (6052686 tets/s)\n",
      "Info    : 0 node relocations\n",
      "Info    : Done meshing 3D (Wall 0.0205001s, CPU 0.020494s)\n",
      "Info    : Optimizing mesh...\n",
      "Info    : Optimizing volume 1\n",
      "Info    : Optimization starts (volume = 4907.5) with worst = 0.0139588 / average = 0.718833:\n",
      "Info    : 0.00 < quality < 0.10 :        12 elements\n",
      "Info    : 0.10 < quality < 0.20 :         9 elements\n",
      "Info    : 0.20 < quality < 0.30 :         2 elements\n",
      "Info    : 0.30 < quality < 0.40 :         1 elements\n",
      "Info    : 0.40 < quality < 0.50 :         3 elements\n",
      "Info    : 0.50 < quality < 0.60 :        24 elements\n",
      "Info    : 0.60 < quality < 0.70 :       238 elements\n",
      "Info    : 0.70 < quality < 0.80 :       281 elements\n",
      "Info    : 0.80 < quality < 0.90 :        80 elements\n",
      "Info    : 0.90 < quality < 1.00 :        68 elements\n",
      "Info    : 22 edge swaps, 0 node relocations (volume = 4907.5): worst = 0.376397 / average = 0.738987 (Wall 0.00127342s, CPU 0.001273s)\n",
      "Info    : No ill-shaped tets in the mesh :-)\n",
      "Info    : 0.00 < quality < 0.10 :         0 elements\n",
      "Info    : 0.10 < quality < 0.20 :         0 elements\n",
      "Info    : 0.20 < quality < 0.30 :         0 elements\n",
      "Info    : 0.30 < quality < 0.40 :         1 elements\n",
      "Info    : 0.40 < quality < 0.50 :         4 elements\n",
      "Info    : 0.50 < quality < 0.60 :        18 elements\n",
      "Info    : 0.60 < quality < 0.70 :       243 elements\n",
      "Info    : 0.70 < quality < 0.80 :       285 elements\n",
      "Info    : 0.80 < quality < 0.90 :        78 elements\n",
      "Info    : 0.90 < quality < 1.00 :        68 elements\n",
      "Info    : Done optimizing mesh (Wall 0.00323654s, CPU 0.003236s)\n",
      "Info    : 282 nodes 1381 elements\n"
     ]
    }
   ],
   "source": [
    "import gmsh\n",
    "\n",
    "if not gmsh.is_initialized():\n",
    "    gmsh.initialize()\n",
    "gmsh.clear()\n",
    "gmsh.open(\"model.step\")\n",
    "\n",
    "mesh_size = 4\n",
    "\n",
    "gmsh.option.setNumber(\"Mesh.MeshSizeMax\", mesh_size)\n",
    "gmsh.option.setNumber(\"Mesh.MeshSizeFromCurvature\", 0)\n",
    "gmsh.model.geo.synchronize()\n",
    "gmsh.model.addPhysicalGroup(3, [1], 1)\n",
    "gmsh.model.addPhysicalGroup(2, [1], 2)\n",
    "gmsh.model.addPhysicalGroup(2, [4], 3)\n",
    "gmsh.model.mesh.generate()\n"
   ]
  },
  {
   "cell_type": "code",
   "execution_count": 41,
   "metadata": {},
   "outputs": [
    {
     "name": "stdout",
     "output_type": "stream",
     "text": [
      "Number of fixed facets: 18\n",
      "Number of loaded facets: 14\n"
     ]
    }
   ],
   "source": [
    "import dolfinx\n",
    "from mpi4py import MPI\n",
    "mesh, cell_tags, facet_tags = dolfinx.io.gmshio.model_to_mesh(gmsh.model, MPI.COMM_WORLD, rank=0, gdim=3)\n",
    "fixed_facets = facet_tags.indices[facet_tags.values == 2]\n",
    "loaded_facets = facet_tags.indices[facet_tags.values == 3]\n",
    "\n",
    "print(f\"Number of fixed facets: {len(fixed_facets)}\")\n",
    "print(f\"Number of loaded facets: {len(loaded_facets)}\")"
   ]
  },
  {
   "cell_type": "code",
   "execution_count": 42,
   "metadata": {},
   "outputs": [],
   "source": [
    "import pyvista as pv\n",
    "import os\n",
    "os.environ[\"LIBGL_ALWAYS_SOFTWARE\"] = \"1\"\n",
    "pv.set_jupyter_backend(\"html\")\n",
    "pv.start_xvfb()\n",
    "\n",
    "pv.global_theme.window_size = [600, 500]"
   ]
  },
  {
   "cell_type": "code",
   "execution_count": 43,
   "metadata": {},
   "outputs": [
    {
     "data": {
      "application/vnd.jupyter.widget-view+json": {
       "model_id": "518ec9008e684688a8b14667df94d5e3",
       "version_major": 2,
       "version_minor": 0
      },
      "text/plain": [
       "EmbeddableWidget(value='<iframe srcdoc=\"<!DOCTYPE html>\\n<html>\\n  <head>\\n    <meta http-equiv=&quot;Content-…"
      ]
     },
     "metadata": {},
     "output_type": "display_data"
    }
   ],
   "source": [
    "cells, types, x = dolfinx.plot.vtk_mesh(mesh)\n",
    "grid = pv.UnstructuredGrid(cells, types, x)\n",
    "\n",
    "plotter = pv.Plotter()\n",
    "plotter.add_mesh(grid, show_edges=True, lighting=False)\n",
    "plotter.camera_position = \"xy\"\n",
    "plotter.camera.elevation = 25\n",
    "plotter.enable_parallel_projection()\n",
    "plotter.show_axes()\n",
    "plotter.show_grid()\n",
    "plotter.show()"
   ]
  },
  {
   "cell_type": "markdown",
   "metadata": {},
   "source": [
    "The choice of discrete space for the displacement we make is $[P_2]^3 \\subset [H^1(\\Omega)]^3$, i.e. a vector-valued degree 2 Lagrange space, see [defelement.org](https://defelement.org/elements/examples/tetrahedron-vector-lagrange-2.html),\n",
    "\n",
    "<div align=\"center\"><img src=\"images/vp2.png\" alt=\"lagrange-p1\" width=\"600\"/></div>"
   ]
  },
  {
   "cell_type": "code",
   "execution_count": 44,
   "metadata": {},
   "outputs": [
    {
     "name": "stdout",
     "output_type": "stream",
     "text": [
      "Number of degrees of freedom: 1540 x 3\n"
     ]
    }
   ],
   "source": [
    "V = dolfinx.fem.functionspace(mesh, (\"P\", 2, (3, )))\n",
    "print(f\"Number of degrees of freedom: {V.dofmap.index_map.size_global} x {V.dofmap.index_map_bs}\")"
   ]
  },
  {
   "cell_type": "code",
   "execution_count": 45,
   "metadata": {},
   "outputs": [],
   "source": [
    "import ufl\n",
    "import numpy as np\n",
    "\n",
    "nu = 0.49\n",
    "E = 3.0  # MPa = N/mm^2, natural rubber\n",
    "\n",
    "mu = E / (2 * (1 + nu))\n",
    "lmbda = E * nu / ((1 + nu) * (1 - 2 * nu))\n",
    "\n",
    "C1 = mu / 2\n",
    "D1 = lmbda / 2\n",
    "\n",
    "\n",
    "def W(I1, I3):\n",
    "    return C1*(I1 - 3 - 2*ufl.ln(I3)) + D1*(I3 - 1)**2\n",
    "\n",
    "\n",
    "u0 = dolfinx.fem.Function(V)\n",
    "\n",
    "F = ufl.Identity(3) + ufl.grad(u0)\n",
    "I1 = ufl.tr(F.T * F)\n",
    "I3 = ufl.det(F)\n",
    "\n",
    "x = ufl.SpatialCoordinate(mesh)\n",
    "t = dolfinx.fem.Constant(mesh, np.array([0.0, 0.0, 0.0]) * 1e-6)\n",
    "\n",
    "ds = ufl.Measure(\"ds\", domain=mesh, subdomain_data=facet_tags)\n",
    "W_total = W(I1, I3) * ufl.dx(metadata={\"quadrature_degree\": 4}) - ufl.inner(t, u0) * ds(3)"
   ]
  },
  {
   "cell_type": "code",
   "execution_count": 46,
   "metadata": {},
   "outputs": [],
   "source": [
    "boundary_dofs = dolfinx.fem.locate_dofs_topological(V, entity_dim=2, entities=fixed_facets)\n",
    "bc = dolfinx.fem.dirichletbc(dolfinx.fem.Constant(mesh, [0.0, 0.0, 0.0]), dofs=boundary_dofs, V=V)\n",
    "\n",
    "loaded_dofs = dolfinx.fem.locate_dofs_topological(V, entity_dim=2, entities=loaded_facets)\n",
    "bc1 = dolfinx.fem.dirichletbc(dolfinx.fem.Constant(mesh, [0.0, 0.0, 0.0]), dofs=loaded_dofs, V=V)"
   ]
  },
  {
   "cell_type": "code",
   "execution_count": 47,
   "metadata": {},
   "outputs": [
    {
     "name": "stdout",
     "output_type": "stream",
     "text": [
      "Number of Newton iterations: 0\n",
      "Total displacement: 0.0 mm\n",
      "Number of Newton iterations: 4\n",
      "Total displacement: 1.0 mm\n",
      "Number of Newton iterations: 4\n",
      "Total displacement: 2.0 mm\n",
      "Number of Newton iterations: 4\n",
      "Total displacement: 3.0 mm\n",
      "Number of Newton iterations: 4\n",
      "Total displacement: 4.0 mm\n",
      "Number of Newton iterations: 4\n",
      "Total displacement: 5.0 mm\n",
      "Number of Newton iterations: 4\n",
      "Total displacement: 6.0 mm\n",
      "Number of Newton iterations: 4\n",
      "Total displacement: 7.0 mm\n",
      "Number of Newton iterations: 4\n",
      "Total displacement: 8.0 mm\n",
      "Number of Newton iterations: 4\n",
      "Total displacement: 9.0 mm\n",
      "Number of Newton iterations: 4\n",
      "Total displacement: 10.0 mm\n",
      "Number of Newton iterations: 4\n",
      "Total displacement: 11.0 mm\n",
      "Number of Newton iterations: 4\n",
      "Total displacement: 12.0 mm\n",
      "Number of Newton iterations: 4\n",
      "Total displacement: 13.0 mm\n",
      "Number of Newton iterations: 4\n",
      "Total displacement: 14.0 mm\n",
      "Number of Newton iterations: 4\n",
      "Total displacement: 15.0 mm\n",
      "Number of Newton iterations: 4\n",
      "Total displacement: 16.0 mm\n",
      "Number of Newton iterations: 4\n",
      "Total displacement: 17.0 mm\n",
      "Number of Newton iterations: 4\n",
      "Total displacement: 18.0 mm\n",
      "Number of Newton iterations: 4\n",
      "Total displacement: 19.0 mm\n"
     ]
    }
   ],
   "source": [
    "import dolfinx.nls.petsc\n",
    "from petsc4py import PETSc\n",
    "\n",
    "R = ufl.derivative(W_total, u0)\n",
    "problem = dolfinx.fem.petsc.NonlinearProblem(R, u0, bcs=[bc, bc1])\n",
    "solver = dolfinx.nls.petsc.NewtonSolver(MPI.COMM_WORLD, problem)\n",
    "\n",
    "ksp = solver.krylov_solver\n",
    "opts = PETSc.Options()\n",
    "option_prefix = ksp.getOptionsPrefix()\n",
    "opts[f\"{option_prefix}ksp_type\"] = \"preonly\"\n",
    "opts[f\"{option_prefix}pc_type\"] = \"cholesky\"\n",
    "opts[f\"{option_prefix}pc_factor_mat_solver_type\"] = \"mumps\"\n",
    "ksp.setFromOptions()\n",
    "\n",
    "dolfinx.log.set_log_level(dolfinx.log.LogLevel.WARNING)\n",
    "for i in range(20):\n",
    "    n, converged = solver.solve(u0)\n",
    "    print(f\"Number of Newton iterations: {n}\")\n",
    "    print(f\"Total displacement: {bc1.g.value[2]} mm\")\n",
    "    bc1.g.value[2] += 1"
   ]
  },
  {
   "cell_type": "code",
   "execution_count": 48,
   "metadata": {},
   "outputs": [],
   "source": [
    "def plot(u, title):\n",
    "    cells, types, x = dolfinx.plot.vtk_mesh(u.function_space)\n",
    "    grid = pv.UnstructuredGrid(cells, types, x)\n",
    "\n",
    "    if not grid.get_cell(0).is_linear:\n",
    "        levels = 4\n",
    "    else:\n",
    "        levels = 0\n",
    "\n",
    "    grid.point_data[\"u\"] = u.x.array.reshape(-1, 3)\n",
    "    grid.set_active_scalars(\"u\")\n",
    "    grid_warped = grid.warp_by_vector(\"u\")\n",
    "\n",
    "    plotter = pv.Plotter()\n",
    "    plotter.add_mesh(grid_warped.extract_surface(nonlinear_subdivision=levels),\n",
    "                     ambient=0.5,\n",
    "                     specular=0.5,\n",
    "                     specular_power=20,\n",
    "                     n_colors=10,\n",
    "                     scalar_bar_args={\"title\": title})\n",
    "    plotter.add_mesh(grid_warped.separate_cells().extract_surface(nonlinear_subdivision=levels).extract_feature_edges(),\n",
    "                     style=\"wireframe\",\n",
    "                     color=\"black\")\n",
    "\n",
    "    plotter.camera_position = \"xy\"\n",
    "    plotter.enable_parallel_projection()\n",
    "    plotter.show_axes()\n",
    "    plotter.show()"
   ]
  },
  {
   "cell_type": "code",
   "execution_count": 49,
   "metadata": {},
   "outputs": [
    {
     "data": {
      "application/vnd.jupyter.widget-view+json": {
       "model_id": "95de4afdd31f4ba9855479a2cce576b8",
       "version_major": 2,
       "version_minor": 0
      },
      "text/plain": [
       "EmbeddableWidget(value='<iframe srcdoc=\"<!DOCTYPE html>\\n<html>\\n  <head>\\n    <meta http-equiv=&quot;Content-…"
      ]
     },
     "metadata": {},
     "output_type": "display_data"
    }
   ],
   "source": [
    "plot(u0, \"Displacement [mm]\")"
   ]
  }
 ],
 "metadata": {
  "kernelspec": {
   "display_name": "dolfinx-env",
   "language": "python",
   "name": "python3"
  },
  "language_info": {
   "codemirror_mode": {
    "name": "ipython",
    "version": 3
   },
   "file_extension": ".py",
   "mimetype": "text/x-python",
   "name": "python",
   "nbconvert_exporter": "python",
   "pygments_lexer": "ipython3",
   "version": "3.12.3"
  }
 },
 "nbformat": 4,
 "nbformat_minor": 2
}
