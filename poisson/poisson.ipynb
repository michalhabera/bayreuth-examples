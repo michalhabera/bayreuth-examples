{
 "cells": [
  {
   "cell_type": "markdown",
   "id": "a20bc51c",
   "metadata": {},
   "source": [
    "# Poisson equation\n",
    "\n",
    "A \"Hello World\" example for any FEM software is to solve the equation\n",
    "$$\n",
    "\\begin{aligned}\n",
    "-\\Delta u &= f, \\quad \\text{in} \\quad \\Omega \\subset \\mathbb R^2,\\\\\n",
    "u &= 0, \\quad \\text{on} \\quad \\Gamma_D.\n",
    "\\end{aligned}\n",
    "$$\n",
    "\n",
    "We can formulate this problem as: find $u \\in H^1_0(\\Omega)$ that\n",
    "$$\n",
    "\\min \\limits_{u \\in H^1_0(\\Omega)} \\left\\{ \\frac 12 \\int_\\Omega |\\nabla u|^2 \\, \\mathrm dx - \\int_\\Omega f u \\, \\mathrm dx \\right\\}.\n",
    "$$\n",
    "\n",
    "Indeed, the minimum is achieved for $u$ for which\n",
    "$$\n",
    "a(u, v) = L(v), \\quad \\forall v \\in H^1_0(\\Omega)\n",
    "$$\n",
    "with\n",
    "$$\n",
    "\\begin{aligned}\n",
    "a(u, v) = \\int_\\Omega \\nabla u \\cdot \\nabla v \\, \\mathrm dx, \\quad L(v)    = \\int_\\Omega f v \\, \\mathrm dx.\n",
    "\\end{aligned}\n",
    "$$\n",
    "which can by found by the variation of the above functional. The space $H^1_0(\\Omega)$ are all $H^1(\\Omega)$ functions that vanish on Dirichlet part of the boundary, $\\Gamma_D$.\n",
    "\n",
    "Once discretized using a conforming choice $V_h \\subset H^1_0(\\Omega)$, the problem of minimizing the above reduces to\n",
    "$$\n",
    "\\min\\limits_{\\bm x \\in \\mathbb R^n} \\left\\{ \\bm x \\cdot \\bm A \\bm x - \\bm b \\cdot \\bm x \\right\\}\n",
    "$$\n",
    "which is a convex, quadratic and unconstrained minimization problem (special case of Quadratic Programming, QP) for which solution can be found in a closed form (single matrix inversion). Stiffness matrix $\\bm A \\in \\mathbb R^{n \\times n}$ and vector $\\bm b \\in \\mathbb R^n$\n",
    "$$\n",
    "A_{ij} = \\int_\\Omega \\nabla \\varphi_i \\cdot \\nabla \\varphi_j \\, \\mathrm dx, \\quad b_i = \\int_\\Omega f \\varphi_i \\, \\mathrm dx\n",
    "$$\n",
    "where $\\varphi_i$ are basis functions of the space $V_h$."
   ]
  },
  {
   "cell_type": "code",
   "execution_count": 14,
   "id": "b6e5ce17",
   "metadata": {},
   "outputs": [],
   "source": [
    "import dolfinx\n",
    "import dolfinx.plot\n",
    "import ufl\n",
    "from mpi4py import MPI\n",
    "import pyvista as pv\n",
    "import os\n",
    "import numpy as np"
   ]
  },
  {
   "cell_type": "markdown",
   "id": "1d87156e",
   "metadata": {},
   "source": [
    "A simple 2D L-shape mesh could be easily generated using [GMSH](https://gmsh.info/). This example is using native GMSH geometry kernel, so we build the geometry from lower to higher dimension (from points to lines, surfaces and volumes).\n",
    "\n",
    "GMSH supports also OpenCASCADE (OCC) kernel, so a geometry could be created with OCC primitives. Alternatively, we can import some of the standard geometry files as STEP, IGES or OCC BREP. GMSH also provides a graphical interface that we can use to visualize the geometry and inspect line, surface and volume IDs.\n",
    "\n",
    "<div align=\"center\"><img src=\"images/gmsh.png\" alt=\"pyvista\" width=\"700\"/></div>"
   ]
  },
  {
   "cell_type": "code",
   "execution_count": 31,
   "id": "017b127e",
   "metadata": {},
   "outputs": [
    {
     "name": "stdout",
     "output_type": "stream",
     "text": [
      "Info    : Clearing all models and views...\n",
      "Info    : Done clearing all models and views\n",
      "Info    : Meshing 1D...\n",
      "Info    : [  0%] Meshing curve 1 (Line)\n",
      "Info    : [ 20%] Meshing curve 2 (Line)\n",
      "Info    : [ 40%] Meshing curve 3 (Line)\n",
      "Info    : [ 60%] Meshing curve 4 (Line)\n",
      "Info    : [ 70%] Meshing curve 5 (Line)\n",
      "Info    : [ 90%] Meshing curve 6 (Line)\n",
      "Info    : Done meshing 1D (Wall 0.000565875s, CPU 0.000779s)\n",
      "Info    : Meshing 2D...\n",
      "Info    : Meshing surface 1 (Plane, Frontal-Delaunay)\n",
      "Info    : Done meshing 2D (Wall 0.00763467s, CPU 0.007038s)\n",
      "Info    : Meshing 3D...\n",
      "Info    : Done meshing 3D (Wall 6.7333e-05s, CPU 9.6e-05s)\n",
      "Info    : 486 nodes 976 elements\n",
      "Info    : Writing 'l-shape.geo_unrolled'...\n"
     ]
    },
    {
     "name": "stdout",
     "output_type": "stream",
     "text": [
      "Info    : Done writing 'l-shape.geo_unrolled'\n"
     ]
    }
   ],
   "source": [
    "mesh_size = 0.04\n",
    "width = 1.0\n",
    "height = 1.0\n",
    "scale = 3\n",
    "\n",
    "import gmsh\n",
    "if not gmsh.is_initialized():\n",
    "    gmsh.initialize()\n",
    "gmsh.clear()\n",
    "gmsh.option.setNumber(\"General.Terminal\", 1)\n",
    "gmsh.option.setNumber(\"Mesh.MeshSizeMax\", mesh_size)\n",
    "\n",
    "p0 = gmsh.model.geo.addPoint(0.0, 0.0, 0.0)\n",
    "p1 = gmsh.model.geo.addPoint(width, 0.0, 0.0)\n",
    "p2 = gmsh.model.geo.addPoint(width, height / scale, 0.0)\n",
    "p3 = gmsh.model.geo.addPoint(width / scale, height / scale, 0.0)\n",
    "p4 = gmsh.model.geo.addPoint(width / scale, height, 0.0)\n",
    "p5 = gmsh.model.geo.addPoint(0.0, height, 0.0)\n",
    "\n",
    "l0 = gmsh.model.geo.addLine(p0, p1)\n",
    "l1 = gmsh.model.geo.addLine(p1, p2)\n",
    "l2 = gmsh.model.geo.addLine(p2, p3)\n",
    "l3 = gmsh.model.geo.addLine(p3, p4)\n",
    "l4 = gmsh.model.geo.addLine(p4, p5)\n",
    "l5 = gmsh.model.geo.addLine(p5, p0)\n",
    "\n",
    "cl = gmsh.model.geo.addCurveLoop([l0, l1, l2, l3, l4, l5])\n",
    "ps = gmsh.model.geo.addPlaneSurface([cl])\n",
    "\n",
    "gmsh.model.geo.synchronize()\n",
    "\n",
    "gmsh.model.addPhysicalGroup(2, [ps], tag=1)\n",
    "gmsh.model.addPhysicalGroup(1, [l0, l1, l2, l3, l4, l5], tag=2)\n",
    "\n",
    "# Generate the mesh\n",
    "gmsh.model.mesh.generate()\n",
    "gmsh.write('l-shape.geo_unrolled')"
   ]
  },
  {
   "cell_type": "markdown",
   "id": "be9077bf",
   "metadata": {},
   "source": [
    "Dolfinx provides a helper function `dolfinx.io.gmshio.model_to_gmsh` that converts the GMSH model/mesh into a `dolfinx.mesh.Mesh` object along with `dolfinx.mesh.MeshTags` that store tagged mesh cells or facets."
   ]
  },
  {
   "cell_type": "code",
   "execution_count": 32,
   "id": "2ec8442d",
   "metadata": {},
   "outputs": [
    {
     "name": "stdout",
     "output_type": "stream",
     "text": [
      "Number of boundary facets: 102\n"
     ]
    }
   ],
   "source": [
    "mesh, cell_tags, facet_tags = dolfinx.io.gmshio.model_to_mesh(gmsh.model, MPI.COMM_WORLD, rank=0, gdim=2)\n",
    "boundary_facets = facet_tags.indices[facet_tags.values == 2]\n",
    "print(f\"Number of boundary facets: {len(boundary_facets)}\")"
   ]
  },
  {
   "cell_type": "markdown",
   "id": "cf5011b6",
   "metadata": {},
   "source": [
    "In addition, there is `dolfinx.plot.vtk_mesh` to help with converting the internal dolfinx Mesh into primite arrays useful for visualization.\n",
    "\n",
    "A powerful and interactive visualization tool based on VTK is [PyVista](https://docs.pyvista.org/),\n",
    "\n",
    "<div align=\"center\"><img src=\"images/pyvista.png\" alt=\"pyvista\" width=\"600\"/></div>"
   ]
  },
  {
   "cell_type": "code",
   "execution_count": 33,
   "id": "d275e1dc",
   "metadata": {},
   "outputs": [],
   "source": [
    "import os\n",
    "os.environ[\"LIBGL_ALWAYS_SOFTWARE\"] = \"1\"\n",
    "pv.set_jupyter_backend(\"html\")\n",
    "pv.start_xvfb()\n",
    "\n",
    "pv.global_theme.window_size = [600, 500]"
   ]
  },
  {
   "cell_type": "code",
   "execution_count": 34,
   "id": "7a8ce5fd",
   "metadata": {},
   "outputs": [
    {
     "data": {
      "application/vnd.jupyter.widget-view+json": {
       "model_id": "cb698f7fb25c40989cc435983a5e13f6",
       "version_major": 2,
       "version_minor": 0
      },
      "text/plain": [
       "EmbeddableWidget(value='<iframe srcdoc=\"<!DOCTYPE html>\\n<html>\\n  <head>\\n    <meta http-equiv=&quot;Content-…"
      ]
     },
     "metadata": {},
     "output_type": "display_data"
    }
   ],
   "source": [
    "cells, types, x = dolfinx.plot.vtk_mesh(mesh)\n",
    "grid = pv.UnstructuredGrid(cells, types, x)\n",
    "\n",
    "plotter = pv.Plotter()\n",
    "plotter.add_mesh(grid, show_edges=True, lighting=False)\n",
    "plotter.camera_position = \"xy\"\n",
    "plotter.enable_parallel_projection()\n",
    "plotter.show_axes()\n",
    "plotter.show_grid()\n",
    "plotter.show()"
   ]
  },
  {
   "cell_type": "markdown",
   "id": "af992e37",
   "metadata": {},
   "source": [
    "With the mesh ready, lets setup function spaces. We choose a conforming discretization $P_1 \\subset H^1(\\Omega)$ with $P_1$ being the standard piecewise linear, globally continuous space (Lagrange degree 1), see [defelement.org](https://defelement.org/elements/examples/triangle-lagrange-equispaced-1.html),\n",
    "\n",
    "<div align=\"center\"><img src=\"images/p1.png\" alt=\"lagrange-p1\" width=\"600\"/></div>\n",
    "\n",
    "Dolfinx implicitly calls the `basix` library to provide information about connectivity of the element degrees-of-freedom, their numbering, element pullback, element interpolation matrix and many others."
   ]
  },
  {
   "cell_type": "code",
   "execution_count": 35,
   "id": "c48a3002",
   "metadata": {},
   "outputs": [
    {
     "name": "stdout",
     "output_type": "stream",
     "text": [
      "Number of degrees of freedom: 486\n"
     ]
    }
   ],
   "source": [
    "V = dolfinx.fem.functionspace(mesh, (\"P\", 1))\n",
    "print(f\"Number of degrees of freedom: {V.dofmap.index_map.size_global}\")"
   ]
  },
  {
   "cell_type": "code",
   "execution_count": 36,
   "id": "f92f9170",
   "metadata": {},
   "outputs": [
    {
     "data": {
      "application/vnd.jupyter.widget-view+json": {
       "model_id": "c6b0bb50808640a69296a78c8e59723c",
       "version_major": 2,
       "version_minor": 0
      },
      "text/plain": [
       "EmbeddableWidget(value='<iframe srcdoc=\"<!DOCTYPE html>\\n<html>\\n  <head>\\n    <meta http-equiv=&quot;Content-…"
      ]
     },
     "metadata": {},
     "output_type": "display_data"
    }
   ],
   "source": [
    "basis0 = dolfinx.fem.Function(V)\n",
    "basis0.x.array[10] = 1.0\n",
    "\n",
    "cells, types, x = dolfinx.plot.vtk_mesh(V)\n",
    "grid = pv.UnstructuredGrid(cells, types, x)\n",
    "\n",
    "grid.point_data[\"u\"] = basis0.x.array\n",
    "grid.set_active_scalars(\"u\")\n",
    "grid_warped = grid.warp_by_scalar(\"u\", factor=0.2)\n",
    "grid_warped = grid_warped.tessellate()\n",
    "\n",
    "plotter = pv.Plotter()\n",
    "plotter.add_mesh(grid_warped, show_edges=True, lighting=False)\n",
    "plotter.camera_position = \"xy\"\n",
    "plotter.enable_parallel_projection()\n",
    "plotter.show_axes()\n",
    "plotter.show()"
   ]
  },
  {
   "cell_type": "code",
   "execution_count": 37,
   "id": "d51bdb9a",
   "metadata": {},
   "outputs": [],
   "source": [
    "\n",
    "u, v = ufl.TrialFunction(V), ufl.TestFunction(V)\n",
    "f = dolfinx.fem.Constant(mesh, 20.0)\n",
    "a = ufl.inner(ufl.grad(u), ufl.grad(v)) * ufl.dx\n",
    "L = f * v * ufl.dx"
   ]
  },
  {
   "cell_type": "code",
   "execution_count": 38,
   "id": "84e7e512",
   "metadata": {},
   "outputs": [],
   "source": [
    "boundary_dofs = dolfinx.fem.locate_dofs_topological(V, entity_dim=1, entities=boundary_facets)\n",
    "bc = dolfinx.fem.dirichletbc(dolfinx.fem.Constant(mesh, 0.0), dofs=boundary_dofs, V=V)"
   ]
  },
  {
   "cell_type": "code",
   "execution_count": 39,
   "id": "97380fac",
   "metadata": {},
   "outputs": [],
   "source": [
    "\n",
    "import dolfinx.fem.petsc\n",
    "problem = dolfinx.fem.petsc.LinearProblem(a, L, bcs=[bc],\n",
    "                                          petsc_options={\"ksp_type\": \"preonly\",\n",
    "                                                         \"pc_type\": \"cholesky\"})\n",
    "uh = problem.solve()"
   ]
  },
  {
   "cell_type": "code",
   "execution_count": 47,
   "id": "c0d2ba97",
   "metadata": {},
   "outputs": [
    {
     "data": {
      "application/vnd.jupyter.widget-view+json": {
       "model_id": "10f85f042f344c3d82e0d8e50036b859",
       "version_major": 2,
       "version_minor": 0
      },
      "text/plain": [
       "EmbeddableWidget(value='<iframe srcdoc=\"<!DOCTYPE html>\\n<html>\\n  <head>\\n    <meta http-equiv=&quot;Content-…"
      ]
     },
     "metadata": {},
     "output_type": "display_data"
    }
   ],
   "source": [
    "cells, types, x = dolfinx.plot.vtk_mesh(V)\n",
    "grid = pv.UnstructuredGrid(cells, types, x)\n",
    "\n",
    "grid.point_data[\"u\"] = uh.x.array\n",
    "grid.set_active_scalars(\"u\")\n",
    "grid_warped = grid.warp_by_scalar(\"u\")\n",
    "grid_warped = grid_warped.tessellate()\n",
    "\n",
    "plotter = pv.Plotter()\n",
    "plotter.add_mesh(grid_warped, show_edges=True, ambient=0.5, specular=0.2, n_colors=10)\n",
    "plotter.camera_position = \"xy\"\n",
    "plotter.enable_parallel_projection()\n",
    "plotter.show_axes()\n",
    "plotter.show()"
   ]
  },
  {
   "cell_type": "markdown",
   "id": "cf071a79",
   "metadata": {},
   "source": [
    "### Inspection of the underlying linear algebra objects\n",
    "\n",
    "Even though `dolfinx` is agnostic to the use of linear algebra backend and it has its own distributed CSR matrix class, we've explicitly used the `LinearProblem` class from `petsc` namespace.\n",
    "\n",
    "For more involved formats and solvers we recommend to use [PETSc](https://petsc.org/) which builds on a very powerful abstraction of Krylov solvers (KSP) and preconditioners (PC). See [PETSc manual](https://petsc.org/release/manual/manual.pdf).\n",
    "\n",
    "<div align=\"center\"><img src=\"images/petsc.png\" alt=\"PETSc and TAO\" height=\"80\"/></div>\n",
    "\n",
    "\n"
   ]
  },
  {
   "cell_type": "code",
   "execution_count": 41,
   "id": "356629b7",
   "metadata": {},
   "outputs": [
    {
     "name": "stdout",
     "output_type": "stream",
     "text": [
      "KSP Object: (dolfinx_solve_281472314478848) 1 MPI process\n",
      "  type: preonly\n",
      "  maximum iterations=10000, initial guess is zero\n",
      "  tolerances: relative=1e-05, absolute=1e-50, divergence=10000.\n",
      "  left preconditioning\n",
      "  using NONE norm type for convergence test\n",
      "PC Object: (dolfinx_solve_281472314478848) 1 MPI process\n",
      "  type: cholesky\n",
      "    out-of-place factorization\n",
      "    tolerance for zero pivot 2.22045e-14\n",
      "    matrix ordering: nd\n",
      "    factor fill ratio given 5., needed 3.4981\n",
      "      Factored matrix follows:\n",
      "        Mat Object: (dolfinx_solve_281472314478848) 1 MPI process\n",
      "          type: seqsbaij\n",
      "          rows=486, cols=486\n",
      "          package used to perform factorization: petsc\n",
      "          total: nonzeros=6433, allocated nonzeros=6433\n",
      "              block size is 1\n",
      "  linear system matrix = precond matrix:\n",
      "  Mat Object: (dolfinx_solve_281472314478848) 1 MPI process\n",
      "    type: seqaij\n",
      "    rows=486, cols=486\n",
      "    total: nonzeros=3192, allocated nonzeros=3192\n",
      "    total number of mallocs used during MatSetValues calls=0\n",
      "      not using I-node routines\n"
     ]
    }
   ],
   "source": [
    "problem.solver.view()"
   ]
  },
  {
   "cell_type": "markdown",
   "id": "dde33653",
   "metadata": {},
   "source": [
    "System matrix could be simply extracted and converted into e.g. SciPy CSR matrix in order to inspect the sparsity pattern."
   ]
  },
  {
   "cell_type": "code",
   "execution_count": 42,
   "id": "240f2f96",
   "metadata": {},
   "outputs": [
    {
     "data": {
      "image/png": "[encoded data removed]",
      "text/plain": [
       "<Figure size 500x500 with 1 Axes>"
      ]
     },
     "metadata": {},
     "output_type": "display_data"
    }
   ],
   "source": [
    "import scipy\n",
    "import scipy.sparse\n",
    "import matplotlib.pyplot as plt\n",
    "\n",
    "i, j, v = problem.A.getValuesCSR()\n",
    "fig = plt.figure(figsize=(5, 5), dpi=100)\n",
    "A_scipy = scipy.sparse.csr_matrix((v, j, i))\n",
    "ax = plt.spy(A_scipy, markersize=1.0)\n",
    "plt.show()"
   ]
  }
 ],
 "metadata": {
  "jupytext": {
   "cell_metadata_filter": "-all",
   "formats": "ipynb,auto:percent",
   "main_language": "python",
   "notebook_metadata_filter": "-all"
  },
  "kernelspec": {
   "display_name": "dolfinx-env",
   "language": "python",
   "name": "python3"
  },
  "language_info": {
   "codemirror_mode": {
    "name": "ipython",
    "version": 3
   },
   "file_extension": ".py",
   "mimetype": "text/x-python",
   "name": "python",
   "nbconvert_exporter": "python",
   "pygments_lexer": "ipython3",
   "version": "3.12.3"
  }
 },
 "nbformat": 4,
 "nbformat_minor": 5
}
