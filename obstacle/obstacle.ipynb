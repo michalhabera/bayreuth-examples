{
 "cells": [
  {
   "cell_type": "markdown",
   "metadata": {},
   "source": [
    "# Obstacle problem\n",
    "\n",
    "The classical version of the obstacle problem is to find a minimizer of the Dirichlet (membrane) energy\n",
    "under constraint, that the deflection $u$ must be above a certain prescribed function, i.e. $u \\ge \\varphi$.\n",
    "\n",
    "<div align=\"center\"><img src=\"images/obstacle.png\" alt=\"Obstacle drawing\" width=\"400\"/></div>\n",
    "\n",
    "(Image by Xavier Ros-Oton, taken from [\"Obstacle problems and free boundaries:\n",
    "An overview\"](https://www.ub.edu/pde/xros/articles/SeMA-article-2017.pdf).)\n",
    "\n",
    "Classical obstacle problem could be formulated as a constrained minimization problem: find $u \\in K$\n",
    "$$\n",
    "\\begin{aligned}\n",
    "\\min\\limits_{u \\in K} \\left\\{\\int_\\Omega |\\nabla u|^2 \\, \\mathrm dx \\right\\},\\\\\n",
    "K = \\left\\{ u \\in H^1_0(\\Omega), \\, u \\ge \\varphi \\right\\},\n",
    "\\end{aligned}\n",
    "$$\n",
    "where $\\varphi$ is a given smooth obstacle. The discretized problem $V_h \\subset H^1_0(\\Omega)$ is again the simple quadratic program\n",
    "$$\n",
    "\\min\\limits_{\\bm x \\in \\mathbb R^n} \\left\\{ \\bm x \\cdot \\bm A \\bm x\\right\\},\\\\\n",
    "\\bm x \\ge \\bm z\n",
    "$$\n",
    "where $\\bm A$ is the stiffness matrix and $\\bm z \\in \\mathbb R^n$ is nodal interpolant of $\\varphi$, i.e. $z_i = \\phi_i(\\varphi)$. Inequality constraint is meant in the element-wise sense in $\\mathbb R^n$.\n"
   ]
  },
  {
   "cell_type": "code",
   "execution_count": 17,
   "metadata": {},
   "outputs": [
    {
     "name": "stdout",
     "output_type": "stream",
     "text": [
      "Info    : Clearing all models and views...\n",
      "Info    : Done clearing all models and views\n",
      "Info    : Reading 'model.step'...\n",
      "Info    :  - Label 'Shapes/Face' (2D)\n",
      "Info    : Done reading 'model.step'\n",
      "Info    : Meshing 1D...\n",
      "Info    : [  0%] Meshing curve 1 (Line)\n",
      "Info    : [ 20%] Meshing curve 2 (Line)\n",
      "Info    : [ 30%] Meshing curve 3 (Line)\n",
      "Info    : [ 40%] Meshing curve 4 (Line)\n",
      "Info    : [ 60%] Meshing curve 5 (Line)\n",
      "Info    : [ 70%] Meshing curve 6 (Line)\n",
      "Info    : [ 80%] Meshing curve 7 (Line)\n",
      "Info    : [ 90%] Meshing curve 8 (Line)\n",
      "Info    : Done meshing 1D (Wall 0.000482917s, CPU 0.000593s)\n",
      "Info    : Meshing 2D...\n",
      "Info    : Meshing surface 1 (Plane, Frontal-Delaunay)\n",
      "Info    : Done meshing 2D (Wall 0.0259264s, CPU 0.025962s)\n",
      "Info    : Meshing 3D...\n",
      "Info    : Done meshing 3D (Wall 3.3541e-05s, CPU 3.4e-05s)\n",
      "Info    : 1284 nodes 2574 elements\n"
     ]
    }
   ],
   "source": [
    "import gmsh\n",
    "\n",
    "if not gmsh.is_initialized():\n",
    "    gmsh.initialize()\n",
    "gmsh.clear()\n",
    "gmsh.open(\"model.step\")\n",
    "\n",
    "mesh_size = 1\n",
    "\n",
    "gmsh.option.setNumber(\"Mesh.MeshSizeMax\", mesh_size)\n",
    "gmsh.option.setNumber(\"Mesh.MeshSizeFromCurvature\", 0)\n",
    "gmsh.model.geo.synchronize()\n",
    "gmsh.model.addPhysicalGroup(2, [1], tag=1)\n",
    "gmsh.model.addPhysicalGroup(1, [1, 2, 3, 4, 5, 6, 7, 8], tag=2)\n",
    "\n",
    "gmsh.model.mesh.generate()"
   ]
  },
  {
   "cell_type": "code",
   "execution_count": 18,
   "metadata": {},
   "outputs": [
    {
     "name": "stdout",
     "output_type": "stream",
     "text": [
      "Number of fixed facets: 172\n"
     ]
    }
   ],
   "source": [
    "import dolfinx\n",
    "from mpi4py import MPI\n",
    "mesh, cell_tags, facet_tags = dolfinx.io.gmshio.model_to_mesh(gmsh.model, MPI.COMM_WORLD, rank=0, gdim=2)\n",
    "fixed_facets = facet_tags.indices[facet_tags.values == 2]\n",
    "\n",
    "print(f\"Number of fixed facets: {len(fixed_facets)}\")"
   ]
  },
  {
   "cell_type": "code",
   "execution_count": 19,
   "metadata": {},
   "outputs": [],
   "source": [
    "import pyvista as pv\n",
    "import os\n",
    "os.environ[\"LIBGL_ALWAYS_SOFTWARE\"] = \"1\"\n",
    "pv.set_jupyter_backend(\"html\")\n",
    "pv.start_xvfb()\n",
    "\n",
    "pv.global_theme.window_size = [600, 500]"
   ]
  },
  {
   "cell_type": "code",
   "execution_count": 20,
   "metadata": {},
   "outputs": [
    {
     "data": {
      "application/vnd.jupyter.widget-view+json": {
       "model_id": "94e24edd2b2e4fa2907b95ff1aa7814b",
       "version_major": 2,
       "version_minor": 0
      },
      "text/plain": [
       "EmbeddableWidget(value='<iframe srcdoc=\"<!DOCTYPE html>\\n<html>\\n  <head>\\n    <meta http-equiv=&quot;Content-…"
      ]
     },
     "metadata": {},
     "output_type": "display_data"
    }
   ],
   "source": [
    "cells, types, x = dolfinx.plot.vtk_mesh(mesh)\n",
    "grid = pv.UnstructuredGrid(cells, types, x)\n",
    "\n",
    "plotter = pv.Plotter()\n",
    "plotter.add_mesh(grid, show_edges=True, lighting=False)\n",
    "plotter.camera_position = \"xy\"\n",
    "plotter.enable_parallel_projection()\n",
    "plotter.show_axes()\n",
    "plotter.show_grid()\n",
    "plotter.show()"
   ]
  },
  {
   "cell_type": "code",
   "execution_count": 21,
   "metadata": {},
   "outputs": [
    {
     "name": "stdout",
     "output_type": "stream",
     "text": [
      "Number of degrees of freedom: 1284\n"
     ]
    }
   ],
   "source": [
    "V = dolfinx.fem.functionspace(mesh, (\"P\", 1))\n",
    "print(f\"Number of degrees of freedom: {V.dofmap.index_map.size_global}\")"
   ]
  },
  {
   "cell_type": "code",
   "execution_count": 22,
   "metadata": {},
   "outputs": [
    {
     "data": {
      "application/vnd.jupyter.widget-view+json": {
       "model_id": "754df79c61be4afbad03d17d3bd5dac6",
       "version_major": 2,
       "version_minor": 0
      },
      "text/plain": [
       "EmbeddableWidget(value='<iframe srcdoc=\"<!DOCTYPE html>\\n<html>\\n  <head>\\n    <meta http-equiv=&quot;Content-…"
      ]
     },
     "metadata": {},
     "output_type": "display_data"
    }
   ],
   "source": [
    "\n",
    "import numpy as np\n",
    "\n",
    "def obstacle(x, shift=3):\n",
    "    return 10 * np.exp(-((x[0] - 7)**2 + (x[1] - 7)**2) / 20) - 10 + shift\n",
    "\n",
    "phi = dolfinx.fem.Function(V)\n",
    "phi.interpolate(obstacle)\n",
    "\n",
    "grid.point_data[\"phi\"] = phi.x.array\n",
    "grid_warped = grid.warp_by_scalar(\"phi\", factor=1.0)\n",
    "\n",
    "plotter = pv.Plotter()\n",
    "plotter.add_mesh(grid, opacity=0.8, color=\"white\", show_edges=True, ambient=0.5, specular=0.2)\n",
    "plotter.add_mesh(grid_warped, color=\"white\", show_edges=True, ambient=0.5, specular=0.2)\n",
    "plotter.camera_position = \"xy\"\n",
    "plotter.camera.elevation = -70\n",
    "plotter.enable_parallel_projection()\n",
    "plotter.show_axes()\n",
    "plotter.show()"
   ]
  },
  {
   "cell_type": "code",
   "execution_count": 23,
   "metadata": {},
   "outputs": [],
   "source": [
    "import ufl\n",
    "\n",
    "u = dolfinx.fem.Function(V)\n",
    "W = ufl.inner(ufl.grad(u), ufl.grad(u)) * ufl.dx"
   ]
  },
  {
   "cell_type": "code",
   "execution_count": 24,
   "metadata": {},
   "outputs": [],
   "source": [
    "boundary_dofs = dolfinx.fem.locate_dofs_topological(V, entity_dim=1, entities=fixed_facets)\n",
    "bc = dolfinx.fem.dirichletbc(dolfinx.fem.Constant(mesh, 0.0), dofs=boundary_dofs, V=V)"
   ]
  },
  {
   "cell_type": "markdown",
   "metadata": {},
   "source": [
    "### Interfacing with external solvers\n",
    "\n",
    "Let us consider a general optimization problem in $\\mathbb R^n$: find $\\bm x \\in \\mathbb R^n$,\n",
    "$$\n",
    "\\begin{aligned}\n",
    "\\min f(\\bm x),\\\\\n",
    "\\bm g(\\bm x) = 0,\\\\\n",
    "\\bm h(\\bm x) \\le 0,\\\\\n",
    "\\bm l \\le \\bm x \\le \\bm u,\n",
    "\\end{aligned}\n",
    "$$\n",
    "\n",
    "with $f: \\mathbb R^n \\rightarrow \\mathbb R$, $\\bm g: \\mathbb R^n \\rightarrow \\mathbb R^k$, $\\bm h: \\mathbb R^n \\rightarrow \\mathbb R^m$, $\\bm l, \\bm u \\in \\mathbb R^n$, i.e. there are $k$ equality, $m$ inequality and $n$ bounds constraints.\n",
    "\n",
    "In order to interface with existing optimization solvers (PETSc TAO, SciPy, NLOpt, pyOptSparse, ...) we usually need to provide:\n",
    "\n",
    "1. callback for evaluation of objective, $f(\\bm x) \\in \\mathbb R$,\n",
    "2. callback for evaluation of Jacobian, $\\bm J = \\partial f(\\bm x) / \\partial \\bm x \\in \\mathbb R^{n}$,\n",
    "3. callback for evaluation of Hessian, $\\bm H = \\partial \\bm J(\\bm x) / \\partial \\bm x \\in \\mathbb R^{n \\times n}$,\n",
    "4. callback for bounds constraints,\n",
    "5. callback for evaluation of equality constraints and their Jacobian,\n",
    "6. callback for evaluation of inequality constraints and their Jacobian.\n",
    "\n",
    "Specific interfaces and data structures differ across external libraries, but we explore the use of PETSc TAO for the obstacle problem. TAO supports evaluation of objective and gradient in a single routine (performance advantage).\n",
    "\n",
    "We're going to use the automatic differentiation capabilities of UFL to automatically compute the continuous versions of Jacobian and Hessian. This is often referred to as \"optimize-then-discretize\"\n",
    "approach and is crucial for achieving discretization-independent methods.\n",
    "\n",
    "At this point, we need to operate with `dolfinx.fem.Form` objects on a lower level. First, we explicitly invoke the compilation (translation of the UFL form into C language and compilation into a binary extension). This step allows us to control the compilation process, including the compiler and compilation flags."
   ]
  },
  {
   "cell_type": "code",
   "execution_count": 25,
   "metadata": {},
   "outputs": [],
   "source": [
    "\n",
    "W_compiled = dolfinx.fem.form(W, jit_options={\"cffi_verbose\": True,\n",
    "                                              \"cffi_extra_compile_args\": [\"-O3\"]})\n",
    "\n",
    "J = ufl.derivative(W, u)\n",
    "J_compiled = dolfinx.fem.form(J)\n",
    "\n",
    "H = ufl.derivative(J, u)\n",
    "H_compiled = dolfinx.fem.form(H)"
   ]
  },
  {
   "cell_type": "code",
   "execution_count": 26,
   "metadata": {},
   "outputs": [],
   "source": [
    "\n",
    "\n",
    "from petsc4py import PETSc\n",
    "\n",
    "\n",
    "def evaluate_objective_and_gradient(tao, x, grad):\n",
    "    with x.localForm() as x_loc:\n",
    "        u.x.array[:] = x_loc.array[:]\n",
    "    u.x.scatter_forward()\n",
    "\n",
    "    value = MPI.COMM_WORLD.allreduce(\n",
    "        dolfinx.fem.assemble_scalar(W_compiled)\n",
    "    )\n",
    "\n",
    "    b = dolfinx.fem.petsc.assemble_vector(J_compiled)\n",
    "    b.ghostUpdate(addv=PETSc.InsertMode.ADD, mode=PETSc.ScatterMode.REVERSE)\n",
    "    dolfinx.fem.petsc.set_bc(b, [bc], x, -1.0)\n",
    "\n",
    "    with b.localForm() as b_loc, grad.localForm() as grad_loc:\n",
    "        grad_loc.array[:] = b_loc.array[:]\n",
    "\n",
    "    return value\n",
    "\n",
    "\n",
    "def evaluate_hessian(tao, x, hess, hess_pc):\n",
    "    with x.localForm() as x_loc:\n",
    "        u.x.array[:] = x_loc.array[:]\n",
    "    u.x.scatter_forward()\n",
    "    hess.zeroEntries()\n",
    "    dolfinx.fem.petsc.assemble_matrix(hess, H_compiled, [bc])\n",
    "    hess.assemble()\n"
   ]
  },
  {
   "cell_type": "markdown",
   "metadata": {},
   "source": [
    "We can create a TAO solver object, set its type and attach the callbacks.\n",
    "\n",
    "The bounds-constrained solvers available in TAO are Bounded Newton-Krylov methods BNLS/BNTR/BNTL.\n",
    "\n",
    "BNLS is a Bounded Newton Line Search method that we'll use in this example. It is a second-order line search method with additional safe guarding and stabilization for indefinite Hessians. For step $k$, it seeks the descent direction as a solution to\n",
    "$$\n",
    "(\\bm H_k + \\rho_k \\bm I) \\bm p_k = - \\bm J_k.\n",
    "$$\n",
    "Line search is by default the More-Thuente line search. See [PETSc TAO manual](https://petsc.org/release/manual/manual.pdf#page=190) for more details.\n",
    "\n",
    "Bounds constraints are implemented using active-set approach with the active-set estimation based on Bertsekas."
   ]
  },
  {
   "cell_type": "code",
   "execution_count": 27,
   "metadata": {},
   "outputs": [
    {
     "name": "stdout",
     "output_type": "stream",
     "text": [
      "  0 TAO,  Function value: 42.2892,  Residual: 18.3561 \n",
      "  1 TAO,  Function value: 21.7413,  Residual: 9.35945 \n",
      "  2 TAO,  Function value: 19.1102,  Residual: 3.62347 \n",
      "  3 TAO,  Function value: 18.7658,  Residual: 1.59616e-05 \n",
      "  4 TAO,  Function value: 18.7658,  Residual: 1.45894e-10 \n",
      "Tao Object: 1 MPI process\n",
      "  type: bnls\n",
      "    Tao Object: (tao_bnk_cg_) 1 MPI process\n",
      "      type: bncg\n",
      "        CG Type: ssml_bfgs\n",
      "        Skipped Stepdirection Updates: 0\n",
      "        Scaled gradient steps: 0\n",
      "        Pure gradient steps: 0\n",
      "        Not a descent direction: 0\n",
      "        Line search fails: 0\n",
      "        Matrix has not been preallocated yet\n",
      "      TaoLineSearch Object: (tao_bnk_cg_) 1 MPI process\n",
      "        type: more-thuente\n",
      "        maximum function evaluations=30\n",
      "        tolerances: ftol=0.0001, rtol=1e-10, gtol=0.9\n",
      "        total number of function evaluations=0\n",
      "        total number of gradient evaluations=0\n",
      "        total number of function/gradient evaluations=0\n",
      "        Termination reason: 0\n",
      "      Active Set subset type: subvec\n",
      "      convergence tolerances: gatol=1e-08,       grtol=1e-08,       steptol=0.,       gttol=0.\n",
      "      Residual in Function/Gradient:=0.\n",
      "      Objective value=0.\n",
      "      total number of iterations=0,                              (max: 2000)\n",
      "      Solver never run\n",
      "    Rejected BFGS updates: 0\n",
      "    CG steps: 0\n",
      "    Newton steps: 4\n",
      "    BFGS steps: 0\n",
      "    Scaled gradient steps: 0\n",
      "    Gradient steps: 0\n",
      "    KSP termination reasons:\n",
      "      atol: 0\n",
      "      rtol: 4\n",
      "      ctol: 0\n",
      "      negc: 0\n",
      "      dtol: 0\n",
      "      iter: 0\n",
      "      othr: 0\n",
      "  TaoLineSearch Object: 1 MPI process\n",
      "    type: more-thuente\n",
      "    maximum function evaluations=30\n",
      "    tolerances: ftol=0.0001, rtol=1e-10, gtol=0.9\n",
      "    total number of function evaluations=0\n",
      "    total number of gradient evaluations=0\n",
      "    total number of function/gradient evaluations=1\n",
      "    using variable bounds\n",
      "    Termination reason: 1\n",
      "  KSP Object: (tao_bnk_) 1 MPI process\n",
      "    type: stcg\n",
      "    maximum iterations=10000, initial guess is zero\n",
      "    tolerances: relative=1e-05, absolute=1e-50, divergence=10000.\n",
      "    left preconditioning\n",
      "    using UNPRECONDITIONED norm type for convergence test\n",
      "  PC Object: (tao_bnk_) 1 MPI process\n",
      "    type: lmvm\n",
      "    Mat Object: (tao_bnk_pc_lmvm_) 1 MPI process\n",
      "      type: lmvmbfgs\n",
      "      rows=1284, cols=1284\n",
      "        Scale type: DIAGONAL\n",
      "        Scale history: 1\n",
      "        Scale params: alpha=1., beta=0.5, rho=1.        Convex factors: phi=0., theta=0.125\n",
      "        Max. storage: 5\n",
      "        Used storage: 3\n",
      "        Number of updates: 3\n",
      "        Number of rejects: 0\n",
      "        Number of resets: 0\n",
      "        Mat Object: (tao_bnk_pc_lmvm_J0_) 1 MPI process\n",
      "          type: lmvmdiagbroyden\n",
      "          rows=1284, cols=1284\n",
      "            Scale history: 1\n",
      "            Scale params: alpha=1., beta=0.5, rho=1.            Convex factor: theta=0.125\n",
      "            Max. storage: 1\n",
      "            Used storage: 1\n",
      "            Number of updates: 3\n",
      "            Number of rejects: 0\n",
      "            Number of resets: 0\n",
      "    linear system matrix = precond matrix:\n",
      "    Mat Object: 1 MPI process\n",
      "      type: seqaij\n",
      "      rows=1277, cols=1277\n",
      "      total: nonzeros=8571, allocated nonzeros=8571\n",
      "      total number of mallocs used during MatSetValues calls=0\n",
      "        not using I-node routines\n",
      "  total KSP iterations: 217\n",
      "  Active Set subset type: subvec\n",
      "  convergence tolerances: gatol=1e-08,   grtol=1e-08,   steptol=0.,   gttol=0.\n",
      "  Residual in Function/Gradient:=1.45894e-10\n",
      "  Objective value=18.7658\n",
      "  total number of iterations=4,                          (max: 30)\n",
      "  total number of function/gradient evaluations=5,      (max: unlimited)\n",
      "  total number of Hessian evaluations=4\n",
      "  Solution converged:    ||g(X)|| <= gatol\n"
     ]
    }
   ],
   "source": [
    "import dolfinx.fem.petsc\n",
    "\n",
    "grad0 = u.x.petsc_vec.duplicate()\n",
    "grad0.zeroEntries()\n",
    "\n",
    "hess0 = dolfinx.fem.petsc.assemble_matrix(H_compiled, [])\n",
    "\n",
    "opts_tao = PETSc.Options(\"tao_\")\n",
    "opts_tao[\"type\"] = \"bnls\"\n",
    "opts_tao[\"max_it\"] = 30\n",
    "opts_tao[\"monitor\"] = \"\"\n",
    "\n",
    "tao = PETSc.TAO().create()\n",
    "solution = dolfinx.fem.Function(V)\n",
    "tao.setSolution(solution.x.petsc_vec)\n",
    "tao.setObjectiveGradient(evaluate_objective_and_gradient, grad0)\n",
    "tao.setHessian(evaluate_hessian, hess0)\n",
    "\n",
    "upper_bound = dolfinx.fem.Function(V)\n",
    "upper_bound.x.array[:] = PETSc.INFINITY\n",
    "tao.setVariableBounds(phi.x.petsc_vec, upper_bound.x.petsc_vec)\n",
    "tao.setFromOptions()\n",
    "tao.solve()\n",
    "tao.view()"
   ]
  },
  {
   "cell_type": "code",
   "execution_count": 30,
   "metadata": {},
   "outputs": [
    {
     "data": {
      "application/vnd.jupyter.widget-view+json": {
       "model_id": "79373503833a4c1a93c7483b886e75a5",
       "version_major": 2,
       "version_minor": 0
      },
      "text/plain": [
       "EmbeddableWidget(value='<iframe srcdoc=\"<!DOCTYPE html>\\n<html>\\n  <head>\\n    <meta http-equiv=&quot;Content-…"
      ]
     },
     "metadata": {},
     "output_type": "display_data"
    }
   ],
   "source": [
    "grid = pv.UnstructuredGrid(cells, types, x)\n",
    "grid.point_data[\"u\"] = solution.x.array\n",
    "grid.point_data[\"phi\"] = phi.x.array\n",
    "\n",
    "grid_u = grid.warp_by_scalar(\"u\", factor=1.0)\n",
    "grid_phi = grid.warp_by_scalar(\"phi\", factor=1.0)\n",
    "\n",
    "plotter = pv.Plotter()\n",
    "plotter.add_mesh(grid_phi, color=\"white\", show_edges=True, ambient=0.5, specular=0.2)\n",
    "plotter.add_mesh(grid_u, show_edges=True, ambient=0.5, specular=0.2, n_colors=10)\n",
    "plotter.camera_position = \"xy\"\n",
    "plotter.enable_parallel_projection()\n",
    "plotter.show_axes()\n",
    "plotter.show()"
   ]
  },
  {
   "cell_type": "markdown",
   "metadata": {},
   "source": [
    "### Post-processing\n",
    "\n",
    "Dolfinx supports interpolation of arbitrary UFL expressions into a function space. This allows evaluation and visualization of various post-processing quantities. In the obstacle problem we'd like to inspect the contact area, i.e. the region where the bounds contraint is active,\n",
    "$$\n",
    "A = \\int_\\Omega I(u = \\varphi) \\, \\mathrm dx,\n",
    "$$\n",
    "where $I(u = \\varphi)$ denotes the indicator function of the set where $u = \\varphi$.\n",
    "\n"
   ]
  },
  {
   "cell_type": "code",
   "execution_count": 33,
   "metadata": {},
   "outputs": [
    {
     "name": "stdout",
     "output_type": "stream",
     "text": [
      "Contact area: 2.527 mm^2\n"
     ]
    },
    {
     "data": {
      "application/vnd.jupyter.widget-view+json": {
       "model_id": "13a0a1851d7349d89287787389aa7b05",
       "version_major": 2,
       "version_minor": 0
      },
      "text/plain": [
       "EmbeddableWidget(value='<iframe srcdoc=\"<!DOCTYPE html>\\n<html>\\n  <head>\\n    <meta http-equiv=&quot;Content-…"
      ]
     },
     "metadata": {},
     "output_type": "display_data"
    }
   ],
   "source": [
    "contact = ufl.conditional(solution < (phi + 1e-8), 1, 0)\n",
    "\n",
    "expr = dolfinx.fem.Expression(contact, V.element.interpolation_points())\n",
    "contact_fn = dolfinx.fem.Function(V)\n",
    "contact_fn.interpolate(expr)\n",
    "\n",
    "A = dolfinx.fem.assemble_scalar(dolfinx.fem.form(contact * ufl.dx))\n",
    "print(f\"Contact area: {A:.4g} mm^2\")\n",
    "\n",
    "grid = pv.UnstructuredGrid(cells, types, x)\n",
    "grid.point_data[\"contact\"] = contact_fn.x.array\n",
    "\n",
    "plotter = pv.Plotter()\n",
    "plotter.add_mesh(grid, show_edges=True, lighting=False)\n",
    "plotter.camera_position = \"xy\"\n",
    "plotter.enable_parallel_projection()\n",
    "plotter.show_axes()\n",
    "plotter.show()\n"
   ]
  }
 ],
 "metadata": {
  "kernelspec": {
   "display_name": "dolfinx-env",
   "language": "python",
   "name": "python3"
  },
  "language_info": {
   "codemirror_mode": {
    "name": "ipython",
    "version": 3
   },
   "file_extension": ".py",
   "mimetype": "text/x-python",
   "name": "python",
   "nbconvert_exporter": "python",
   "pygments_lexer": "ipython3",
   "version": "3.12.3"
  }
 },
 "nbformat": 4,
 "nbformat_minor": 2
}
